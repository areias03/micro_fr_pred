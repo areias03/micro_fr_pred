import os
import pandas as pd
from micom.viz import plot_growth
from micom.workflows import grow

from micom.qiime_formats import load_qiime_medium
from micom.data import test_medium
from micom.workflows import build, build_database


out_folder = "../data/Lloyd-Price_2019_HMP2IBD/SAMN07510030/simulations/"
plot_folder = "../data/plots/"


tax = pd.read_csv("../data/Lloyd-Price_2019_HMP2IBD/SAMN07510030/sample_manifest.csv")
tax


manifest = build(
    taxonomy=tax,
    out_folder=f"{out_folder}",
    model_db=None,
    cutoff=0.0001,
    threads=2,
)

manifest


medium = load_qiime_medium("../data/western_diet_gut.qza")
# medium = load_qiime_medium(test_medium)
medium


res = grow(
    manifest,
    model_folder=out_folder,
    medium=medium,
    tradeoff=1.0,
    threads=2,
)


pl = plot_growth(res, filename=f"{plot_folder}growth_rates.html")


import pandas as pd

# candidate_medium = pd.DataFrame({"reaction": ["EX_glc__D_m", "EX_o2_m"], "flux": [10, 20]})
# candidate_medium

candidate_medium = load_qiime_medium(test_medium)
candidate_medium


from micom.workflows import complete_community_medium

medium = complete_community_medium(manifest, model_folder=out_folder, medium=candidate_medium,
                    community_growth=0.1, min_growth=0.01,
                    max_import=10, threads=2)
medium


res = grow(
    manifest,
    model_folder=out_folder,
    medium=medium,
    tradeoff=1.0,
    threads=2,
)


pl = plot_growth(res, filename=f"{plot_folder}growth_rates_fixed_medium.html")
pl.view()


# from micom.viz import plot_exchanges_per_taxon

#pl = plot_exchanges_per_taxon(res, filename=f"{out_folder}niche.html")
#pl.view()


from micom.interaction import interactions

ints = interactions(res, taxa='spire_mag_00366776')
ints.sort_values(by="flux", ascending=False).head()


ints = interactions(res, taxa='spire_mag_00366781')
ints.sort_values(by="flux", ascending=False).head()


ints = interactions(res, taxa='spire_mag_00366783')
ints.sort_values(by="flux", ascending=False).head()


from micom.interaction import summarize_interactions

summary = summarize_interactions(ints)
summary


full = interactions(res, taxa=None, threads=8)
full.shape

full


from micom.viz import plot_focal_interactions

pl = plot_focal_interactions(res, taxon="spire_mag_00366781", filename=f"{plot_folder}niche.html")
pl.view()


from micom.interaction import MES

scores = MES(res)
scores.sort_values("MES", ascending=False).head()


from micom.viz import plot_mes

pl = plot_mes(res, filename=f"{plot_folder}mes.html")
pl.view()



