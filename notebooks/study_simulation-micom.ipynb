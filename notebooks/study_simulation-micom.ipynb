{
 "cells": [
  {
   "cell_type": "code",
   "execution_count": null,
   "id": "1bbb036e-9de4-463f-994e-ba72228321ef",
   "metadata": {},
   "outputs": [],
   "source": [
    "import os\n",
    "import polars as pl\n",
    "import pandas as pd\n",
    "import os.path as path\n",
    "from spirepy import Study\n",
    "from spirepy.sample import Sample\n",
    "from micom.viz import plot_growth, plot_focal_interactions, plot_mes\n",
    "import gzip\n",
    "from Bio import SeqIO\n",
    "from glob import glob\n",
    "\n",
    "from micom.qiime_formats import load_qiime_medium\n",
    "from micom.data import test_medium\n",
    "from micom.workflows import build, build_database, grow, complete_community_medium\n",
    "from micom.interaction import interactions, summarize_interactions\n"
   ]
  },
  {
   "cell_type": "markdown",
   "id": "8ba7c444-46a3-4413-b198-56b6ef24e908",
   "metadata": {},
   "source": [
    "# Sample definition and manifest generation"
   ]
  },
  {
   "cell_type": "code",
   "execution_count": null,
   "id": "ae0d83f0-9fce-4fd4-a6fd-94de9b7269fd",
   "metadata": {},
   "outputs": [],
   "source": [
    "study_name = \"Lloyd-Price_2019_HMP2IBD\"\n",
    "study = Study(study_name)\n",
    "data_folder = \"/home/alexandre/Documents/projects/micro_fr_pred/data/\""
   ]
  },
  {
   "cell_type": "code",
   "execution_count": null,
   "id": "e78273cf-c608-4f5f-b17a-3780758e6ae4",
   "metadata": {},
   "outputs": [],
   "source": [
    "out_folder = path.join(data_folder,study_name,\"simulations\")\n",
    "out_folder"
   ]
  },
  {
   "cell_type": "code",
   "execution_count": null,
   "id": "9c762428-a36c-49ac-b96d-46b2c32991c2",
   "metadata": {},
   "outputs": [],
   "source": [
    "tax = pd.read_csv(path.join(data_folder,study_name,\"study_manifest.csv\"))\n",
    "tax"
   ]
  },
  {
   "cell_type": "code",
   "execution_count": null,
   "id": "4fdfd8a4-c9e2-424a-815d-d9cc56abfca4",
   "metadata": {
    "scrolled": true
   },
   "outputs": [],
   "source": [
    "manifest = build(\n",
    "    taxonomy=tax,\n",
    "    out_folder=out_folder,\n",
    "    model_db=None,\n",
    "    cutoff=0.0001,\n",
    "    threads=8\n",
    ")\n",
    "\n",
    "manifest"
   ]
  },
  {
   "cell_type": "markdown",
   "id": "8b782014-ff81-409c-878d-f063ee13c13b",
   "metadata": {},
   "source": [
    "# Western Diet medium"
   ]
  },
  {
   "cell_type": "code",
   "execution_count": null,
   "id": "9fe56f1d-4d88-45b4-88d4-b45a22710661",
   "metadata": {},
   "outputs": [],
   "source": [
    "medium = load_qiime_medium(\"../data/western_diet_gut.qza\")\n",
    "medium"
   ]
  },
  {
   "cell_type": "code",
   "execution_count": null,
   "id": "0d1d4f19-c602-4d5a-94f2-aebe58b2618c",
   "metadata": {
    "scrolled": true
   },
   "outputs": [],
   "source": [
    "res = grow(\n",
    "    manifest,\n",
    "    model_folder=out_folder,\n",
    "    medium=medium,\n",
    "    tradeoff=1.0,\n",
    "    threads=8,\n",
    ")\n",
    "\n",
    "res.save(path.join(out_folder, \"simulation_results.csv.zip\"))"
   ]
  },
  {
   "cell_type": "code",
   "execution_count": null,
   "id": "a7b42e59-c89a-4f01-98c3-d62468a1a9e0",
   "metadata": {},
   "outputs": [],
   "source": [
    "pl = plot_growth(res, filename=path.join(out_folder,\"growth_rates.html\"))\n",
    "pl.view()"
   ]
  },
  {
   "cell_type": "code",
   "execution_count": null,
   "id": "361ffd38-786a-4067-b943-8fdd1688c4e1",
   "metadata": {
    "scrolled": true
   },
   "outputs": [],
   "source": [
    "ints = interactions(res, taxa='spire_mag_00374978')\n",
    "ints.sort_values(by=\"flux\", ascending=False).head()"
   ]
  },
  {
   "cell_type": "code",
   "execution_count": null,
   "id": "dc3fa44a-2089-4850-adc2-5fe23cd8fc25",
   "metadata": {},
   "outputs": [],
   "source": [
    "\n",
    "full = interactions(res, taxa=None, threads=8)\n",
    "\n",
    "full"
   ]
  },
  {
   "cell_type": "code",
   "execution_count": null,
   "id": "304f8281-9352-4c4a-b389-09c126d777cc",
   "metadata": {},
   "outputs": [],
   "source": [
    "\n",
    "summary = summarize_interactions(full)\n",
    "summary.sort_values(by=\"n_ints\", ascending=False)"
   ]
  },
  {
   "cell_type": "code",
   "execution_count": null,
   "id": "d043883c-cb0a-45da-90d8-6dacb563372b",
   "metadata": {},
   "outputs": [],
   "source": [
    "summary.groupby(\"class\")[\"n_ints\"].sum()"
   ]
  },
  {
   "cell_type": "code",
   "execution_count": null,
   "id": "38ac8349-4bde-4c34-a5b9-c4139bb91c09",
   "metadata": {},
   "outputs": [],
   "source": [
    "summary.groupby(\"class\")[\"flux\"].sum()"
   ]
  },
  {
   "cell_type": "code",
   "execution_count": null,
   "id": "d2ce6f45-7d2c-4df4-b0f3-2dd955f501d1",
   "metadata": {},
   "outputs": [],
   "source": [
    "\n",
    "pl = plot_focal_interactions(res, taxon=None, filename=path.join(out_folder, \"niche.html\"))\n",
    "pl.view()"
   ]
  },
  {
   "cell_type": "code",
   "execution_count": null,
   "id": "4d152798-de05-4770-a7e0-53aabe6df55e",
   "metadata": {},
   "outputs": [],
   "source": [
    "\n",
    "pl = plot_mes(res, filename=path.join(out_folder, \"mes.html\"))\n",
    "pl.view()"
   ]
  },
  {
   "cell_type": "markdown",
   "id": "0f9f845d-b1c0-45ed-9959-3fbfc23c5469",
   "metadata": {},
   "source": [
    "# Fixed medium"
   ]
  },
  {
   "cell_type": "code",
   "execution_count": null,
   "id": "d20df180-8a7a-4420-ad33-85ae2bbe5db2",
   "metadata": {},
   "outputs": [],
   "source": [
    "\n",
    "fixed_medium = complete_community_medium(manifest, model_folder=out_folder, medium=medium,\n",
    "                    community_growth=0.1, min_growth=0.01,\n",
    "                    max_import=10, threads=2)\n",
    "fixed_medium"
   ]
  },
  {
   "cell_type": "code",
   "execution_count": null,
   "id": "f13b1c05-dcd8-4248-94db-a42052034b89",
   "metadata": {},
   "outputs": [],
   "source": [
    "res_fixed = grow(\n",
    "    manifest,\n",
    "    model_folder=out_folder,\n",
    "    medium=fixed_medium,\n",
    "    tradeoff=1.0,\n",
    "    threads=2,\n",
    ")"
   ]
  },
  {
   "cell_type": "code",
   "execution_count": null,
   "id": "ce00f1dd-a129-42d4-bf1f-591662c596be",
   "metadata": {},
   "outputs": [],
   "source": [
    "pl = plot_growth(res_fixed, filename=path.join(out_folder, \"growth_rates_fixed_medium.html\"))\n",
    "pl.view()"
   ]
  },
  {
   "cell_type": "code",
   "execution_count": null,
   "id": "5ca632c1-8f66-4715-93e3-688b78c8706d",
   "metadata": {},
   "outputs": [],
   "source": [
    "\n",
    "ints = interactions(res_fixed, taxa='spire_mag_00374987')\n",
    "ints.sort_values(by=\"flux\", ascending=False).head()"
   ]
  },
  {
   "cell_type": "code",
   "execution_count": null,
   "id": "89c1434e-85c7-46d8-b101-2adf66ec368c",
   "metadata": {},
   "outputs": [],
   "source": [
    "ints = interactions(res_fixed, taxa='spire_mag_00374978')\n",
    "ints.sort_values(by=\"flux\", ascending=False).head()"
   ]
  },
  {
   "cell_type": "code",
   "execution_count": null,
   "id": "3057756d-6885-4ffa-9056-1d631d7deafa",
   "metadata": {},
   "outputs": [],
   "source": [
    "full_fixed = interactions(res_fixed, taxa=None, threads=8)\n",
    "\n",
    "full_fixed"
   ]
  },
  {
   "cell_type": "code",
   "execution_count": null,
   "id": "45e830bd-ed90-4a0e-bea8-0f31cc035a6e",
   "metadata": {},
   "outputs": [],
   "source": [
    "\n",
    "summary_fixed = summarize_interactions(full_fixed)\n",
    "summary_fixed.sort_values(by=\"n_ints\", ascending=False)"
   ]
  },
  {
   "cell_type": "code",
   "execution_count": null,
   "id": "70ad964a-2a28-4b7d-b25b-77c4bafc57d9",
   "metadata": {},
   "outputs": [],
   "source": [
    "summary_fixed.groupby(\"class\")[\"n_ints\"].sum()"
   ]
  },
  {
   "cell_type": "code",
   "execution_count": null,
   "id": "3603bfcf-3448-457d-8625-c3fbf57eb42e",
   "metadata": {},
   "outputs": [],
   "source": [
    "summary_fixed.groupby(\"class\")[\"flux\"].sum()"
   ]
  },
  {
   "cell_type": "code",
   "execution_count": null,
   "id": "015686f9-d2d0-4ad4-8fe3-83af766ddd95",
   "metadata": {},
   "outputs": [],
   "source": [
    "\n",
    "pl = plot_focal_interactions(res_fixed, taxon=\"spire_mag_00374978\", filename=path.join(out_folder, \"niche_fixed_medium.html\"))\n",
    "pl.view()"
   ]
  },
  {
   "cell_type": "code",
   "execution_count": null,
   "id": "e14762ac-12b3-4458-8437-c45a38285a74",
   "metadata": {},
   "outputs": [],
   "source": [
    "\n",
    "pl = plot_mes(res_fixed, filename=path.join(out_folder, \"mes_fixed.html\"))\n",
    "pl.view()"
   ]
  }
 ],
 "metadata": {
  "kernelspec": {
   "display_name": "mtgw",
   "language": "python",
   "name": "mtgw"
  },
  "language_info": {
   "codemirror_mode": {
    "name": "ipython",
    "version": 3
   },
   "file_extension": ".py",
   "mimetype": "text/x-python",
   "name": "python",
   "nbconvert_exporter": "python",
   "pygments_lexer": "ipython3",
   "version": "3.9.20"
  }
 },
 "nbformat": 4,
 "nbformat_minor": 5
}
