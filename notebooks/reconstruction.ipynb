{
 "cells": [
  {
   "cell_type": "code",
   "execution_count": 2,
   "id": "5f572647-27d4-48bf-8559-31a068c29719",
   "metadata": {},
   "outputs": [],
   "source": [
    "# Import packages\n",
    "\n",
    "import os\n",
    "import pandas as pd\n",
    "import numpy as np\n",
    "import shutil\n",
    "import requests"
   ]
  },
  {
   "cell_type": "markdown",
   "id": "5a8cc1f1-1ef0-438d-a97b-2f10e12f71dd",
   "metadata": {},
   "source": [
    "## What i need to obtain / Source\n",
    "\n",
    "- DNA contigs -> HPC\n",
    "- Protein bins from prodigal -> SPIRE\n",
    "- EggNOG mapping results -> SPIRE"
   ]
  },
  {
   "cell_type": "code",
   "execution_count": 10,
   "id": "c17924d8-329c-4396-b670-9d472958248a",
   "metadata": {},
   "outputs": [
    {
     "name": "stderr",
     "output_type": "stream",
     "text": [
      "IOPub data rate exceeded.\n",
      "The Jupyter server will temporarily stop sending output\n",
      "to the client in order to avoid crashing it.\n",
      "To change this limit, set the config variable\n",
      "`--ServerApp.iopub_data_rate_limit`.\n",
      "\n",
      "Current values:\n",
      "ServerApp.iopub_data_rate_limit=1000000.0 (bytes/sec)\n",
      "ServerApp.rate_limit_window=3.0 (secs)\n",
      "\n"
     ]
    }
   ],
   "source": [
    "url = \"https://spire.embl.de/download_eggnog/SAMN07510031\"\n",
    "req = requests.get(url)\n",
    "print(req.content)\n",
    "#eggnog=pd.read_csv(req, comment='#', sep='\\t')\n",
    "#eggnog.head()"
   ]
  },
  {
   "cell_type": "code",
   "execution_count": null,
   "id": "38fd947e-60cf-4e9e-8c41-9487e650df4f",
   "metadata": {},
   "outputs": [],
   "source": []
  }
 ],
 "metadata": {
  "kernelspec": {
   "display_name": "Python 3 (ipykernel)",
   "language": "python",
   "name": "python3"
  },
  "language_info": {
   "codemirror_mode": {
    "name": "ipython",
    "version": 3
   },
   "file_extension": ".py",
   "mimetype": "text/x-python",
   "name": "python",
   "nbconvert_exporter": "python",
   "pygments_lexer": "ipython3",
   "version": "3.9.20"
  }
 },
 "nbformat": 4,
 "nbformat_minor": 5
}
